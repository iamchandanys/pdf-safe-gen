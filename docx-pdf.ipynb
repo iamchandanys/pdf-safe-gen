{
 "cells": [
  {
   "cell_type": "code",
   "execution_count": null,
   "id": "521f5c6f",
   "metadata": {},
   "outputs": [],
   "source": [
    "import os\n",
    "\n",
    "def delete_temp_files(file_name):\n",
    "    temp_folder = os.path.join(os.getcwd(), 'temps')\n",
    "    file_path = os.path.join(temp_folder, file_name)\n",
    "    \n",
    "    if os.path.exists(file_path):\n",
    "        os.remove(file_path)\n",
    "        print(f\"Deleted temporary file: {file_path}\")\n",
    "    else:\n",
    "        print(f\"File not found: {file_path}\")"
   ]
  },
  {
   "cell_type": "code",
   "execution_count": null,
   "id": "af0f8cc9",
   "metadata": {},
   "outputs": [],
   "source": [
    "import os\n",
    "import uuid\n",
    "\n",
    "from azure.storage.blob import BlobServiceClient\n",
    "from dotenv import load_dotenv\n",
    "\n",
    "load_dotenv()\n",
    "\n",
    "def upload_pdf_to_blob(pdf_bytes: bytes) -> str:\n",
    "    container_name = os.getenv(\"AZURE_BLOB_CONTAINER_NAME\")\n",
    "    connection_string = os.getenv(\"AZURE_BLOB_CONNECTION_STRING\")\n",
    "\n",
    "    blob_service_client = BlobServiceClient.from_connection_string(connection_string)\n",
    "    blob_client = blob_service_client.get_blob_client(container=container_name, blob=f\"{str(uuid.uuid4())}.pdf\")\n",
    "    blob_client.upload_blob(pdf_bytes, overwrite=True)\n",
    "    \n",
    "    return blob_client.url"
   ]
  },
  {
   "cell_type": "code",
   "execution_count": null,
   "id": "02197bba",
   "metadata": {},
   "outputs": [],
   "source": [
    "from PyPDF2 import PdfReader, PdfWriter\n",
    "\n",
    "def protect_pdf(password: str, file_name: str):\n",
    "    # 1. Load your existing PDF\n",
    "    reader = PdfReader(f\"temps/{file_name}.pdf\")\n",
    "\n",
    "    # 2. Copy pages into a new writer\n",
    "    writer = PdfWriter()\n",
    "    for page in reader.pages:\n",
    "        writer.add_page(page)\n",
    "\n",
    "    # 3. Encrypt with your chosen password\n",
    "    writer.encrypt(user_password=password, owner_pwd=None, use_128bit=True)\n",
    "\n",
    "    # 4. Write out the password-protected file. wb = \"write binary\" mode\n",
    "    with open(f\"temps/{file_name}-protected.pdf\", \"wb\") as out_f:\n",
    "        writer.write(out_f)\n",
    "        \n",
    "    print(f\"Password-protected PDF saved as: temps/{file_name}-protected.pdf\")"
   ]
  },
  {
   "cell_type": "code",
   "execution_count": null,
   "id": "30cdf9bd",
   "metadata": {},
   "outputs": [],
   "source": [
    "import os\n",
    "import requests\n",
    "\n",
    "from docx2pdf import convert\n",
    "from io import BytesIO\n",
    "\n",
    "def convert_docx_to_pdf(remote_url: str, file_name: str):\n",
    "    \n",
    "    # Download DOCX to memory\n",
    "    response = requests.get(remote_url)\n",
    "    docx_bytes = BytesIO(response.content)\n",
    "    \n",
    "    # Ensure the temps directory exists\n",
    "    os.makedirs(\"temps\", exist_ok=True)\n",
    "    \n",
    "    # Save DOCX to a temporary file (docx2pdf requires a file path)\n",
    "    with open(f\"temps/{file_name}.docx\", \"wb\") as temp_docx:\n",
    "        temp_docx.write(docx_bytes.getbuffer())\n",
    "        \n",
    "    convert(f\"temps/{file_name}.docx\", f\"temps/{file_name}.pdf\")\n",
    "    \n",
    "    print(f\"Converted {file_name}.docx to {file_name}.pdf in temps directory.\")"
   ]
  },
  {
   "cell_type": "code",
   "execution_count": null,
   "id": "613b88e1",
   "metadata": {},
   "outputs": [],
   "source": [
    "import uuid\n",
    "\n",
    "remote_url = \"[ADD YOUR DOCX URL HERE]\"\n",
    "file_name = str(uuid.uuid4())\n",
    "password = \"12345\"\n",
    "\n",
    "print(f\"File name: {file_name}\")\n",
    "\n",
    "# Convert DOCX to PDF\n",
    "convert_docx_to_pdf(remote_url, file_name)\n",
    "\n",
    "# Protect the PDF with a password\n",
    "protect_pdf(password, file_name)\n",
    "\n",
    "# Upload the protected PDF to Azure Blob Storage\n",
    "url = upload_pdf_to_blob(open(f\"temps/{file_name}-protected.pdf\", \"rb\").read())\n",
    "print(f\"Protected PDF URL: {url}\")\n",
    "\n",
    "# Clean up temporary files\n",
    "delete_temp_files(f\"{file_name}.docx\")\n",
    "delete_temp_files(f\"{file_name}.pdf\")\n",
    "delete_temp_files(f\"{file_name}-protected.pdf\")"
   ]
  }
 ],
 "metadata": {
  "kernelspec": {
   "display_name": "venv",
   "language": "python",
   "name": "python3"
  },
  "language_info": {
   "codemirror_mode": {
    "name": "ipython",
    "version": 3
   },
   "file_extension": ".py",
   "mimetype": "text/x-python",
   "name": "python",
   "nbconvert_exporter": "python",
   "pygments_lexer": "ipython3",
   "version": "3.12.7"
  }
 },
 "nbformat": 4,
 "nbformat_minor": 5
}
