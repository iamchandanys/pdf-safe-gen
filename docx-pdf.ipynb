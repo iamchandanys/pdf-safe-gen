{
 "cells": [
  {
   "cell_type": "code",
   "execution_count": null,
   "id": "af0f8cc9",
   "metadata": {},
   "outputs": [],
   "source": [
    "import os\n",
    "import uuid\n",
    "\n",
    "from azure.storage.blob import BlobServiceClient\n",
    "from dotenv import load_dotenv\n",
    "\n",
    "load_dotenv()\n",
    "\n",
    "def upload_pdf_to_blob(pdf_bytes: bytes) -> str:\n",
    "    container_name = os.getenv(\"AZURE_BLOB_CONTAINER_NAME\")\n",
    "    connection_string = os.getenv(\"AZURE_BLOB_CONNECTION_STRING\")\n",
    "\n",
    "    blob_service_client = BlobServiceClient.from_connection_string(connection_string)\n",
    "    blob_client = blob_service_client.get_blob_client(container=container_name, blob=f\"{str(uuid.uuid4())}.pdf\")\n",
    "    blob_client.upload_blob(pdf_bytes, overwrite=True)\n",
    "    \n",
    "    return blob_client.url"
   ]
  },
  {
   "cell_type": "code",
   "execution_count": null,
   "id": "02197bba",
   "metadata": {},
   "outputs": [],
   "source": [
    "from PyPDF2 import PdfReader, PdfWriter\n",
    "\n",
    "def protect_pdf(password: str, file_name: str):\n",
    "    # 1. Load your existing PDF\n",
    "    reader = PdfReader(f\"temps/{file_name}.pdf\")\n",
    "\n",
    "    # 2. Copy pages into a new writer\n",
    "    writer = PdfWriter()\n",
    "    for page in reader.pages:\n",
    "        writer.add_page(page)\n",
    "\n",
    "    # 3. Encrypt with your chosen password\n",
    "    writer.encrypt(user_password=password, owner_pwd=None, use_128bit=True)\n",
    "\n",
    "    # 4. Write out the password-protected file. wb = \"write binary\" mode\n",
    "    with open(f\"temps/{file_name}-protected.pdf\", \"wb\") as out_f:\n",
    "        writer.write(out_f)"
   ]
  },
  {
   "cell_type": "code",
   "execution_count": null,
   "id": "30cdf9bd",
   "metadata": {},
   "outputs": [],
   "source": [
    "import os\n",
    "import requests\n",
    "\n",
    "from docx2pdf import convert\n",
    "from io import BytesIO\n",
    "\n",
    "def convert_docx_to_pdf(remote_url: str, file_name: str):\n",
    "    \n",
    "    # Download DOCX to memory\n",
    "    response = requests.get(remote_url)\n",
    "    docx_bytes = BytesIO(response.content)\n",
    "    \n",
    "    # Ensure the temps directory exists\n",
    "    os.makedirs(\"temps\", exist_ok=True)\n",
    "    \n",
    "    # Save DOCX to a temporary file (docx2pdf requires a file path)\n",
    "    with open(f\"temps/{file_name}.docx\", \"wb\") as temp_docx:\n",
    "        temp_docx.write(docx_bytes.getbuffer())\n",
    "        \n",
    "    convert(f\"temps/{file_name}.docx\", f\"temps/{file_name}.pdf\")"
   ]
  },
  {
   "cell_type": "code",
   "execution_count": null,
   "id": "613b88e1",
   "metadata": {},
   "outputs": [],
   "source": [
    "import uuid\n",
    "\n",
    "remote_url = \"https://emcdevstoragev2.blob.core.windows.net/public/26b49f14-0c66-48e5-ab10-d552ceef2256.docx\"\n",
    "file_name = str(uuid.uuid4())\n",
    "password = \"12345\"\n",
    "\n",
    "print(f\"File name: {file_name}\")\n",
    "\n",
    "convert_docx_to_pdf(remote_url, file_name)\n",
    "protect_pdf(password, file_name)\n",
    "\n",
    "url = upload_pdf_to_blob(open(f\"temps/{file_name}-protected.pdf\", \"rb\").read())\n",
    "\n",
    "print(f\"Protected PDF URL: {url}\")"
   ]
  }
 ],
 "metadata": {
  "kernelspec": {
   "display_name": "venv",
   "language": "python",
   "name": "python3"
  },
  "language_info": {
   "codemirror_mode": {
    "name": "ipython",
    "version": 3
   },
   "file_extension": ".py",
   "mimetype": "text/x-python",
   "name": "python",
   "nbconvert_exporter": "python",
   "pygments_lexer": "ipython3",
   "version": "3.12.7"
  }
 },
 "nbformat": 4,
 "nbformat_minor": 5
}
