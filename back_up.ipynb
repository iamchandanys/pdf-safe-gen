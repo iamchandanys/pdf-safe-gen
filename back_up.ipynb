{
 "cells": [
  {
   "cell_type": "code",
   "execution_count": null,
   "id": "705c8747",
   "metadata": {},
   "outputs": [],
   "source": [
    "# # 2. Convert DOCX specifying both input and output paths (can rename PDF as needed)\n",
    "# convert(\"input.docx\", \"output.pdf\")\n",
    "\n",
    "# # 3. Bulk convert: Convert all DOCX files in a folder to PDF (all outputs in same folder as originals)\n",
    "# convert(\"my_folder/\")\n",
    "\n",
    "# # 4. Bulk convert: Specify both input and output folders (all results go to output folder)\n",
    "# convert(\"input_folder/\", \"output_folder/\")"
   ]
  }
 ],
 "metadata": {
  "language_info": {
   "name": "python"
  }
 },
 "nbformat": 4,
 "nbformat_minor": 5
}
